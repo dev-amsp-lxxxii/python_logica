{
 "cells": [
  {
   "cell_type": "code",
   "execution_count": 1,
   "id": "bef6c7db-760d-4a1b-938e-4bc207cdf4de",
   "metadata": {},
   "outputs": [
    {
     "name": "stdout",
     "output_type": "stream",
     "text": [
      "Oi\n"
     ]
    }
   ],
   "source": [
    "print(\"Oi\")"
   ]
  },
  {
   "cell_type": "code",
   "execution_count": 2,
   "id": "065124af-64c8-4ce5-9191-fb4738e28594",
   "metadata": {},
   "outputs": [
    {
     "name": "stdout",
     "output_type": "stream",
     "text": [
      "5\n",
      "2\n",
      "8\n",
      "20\n",
      "5.0\n",
      "2.5\n",
      "2\n",
      "8\n",
      "1\n",
      "3\n",
      "1\n",
      "0\n",
      "1.2599210498948732\n",
      "1\n",
      "2\n"
     ]
    }
   ],
   "source": [
    "print(2 + 3)\n",
    "print(5 - 3)\n",
    "print(10 - 4 + 2)\n",
    "print(2 * 10)\n",
    "print(20 / 4)\n",
    "print(10 / 4)\n",
    "print(10 // 4)\n",
    "print(2 ** 3)\n",
    "print(3 ** 0)\n",
    "print(3 ** 1)\n",
    "print(1 ** 9)\n",
    "print(0 ** 1100)\n",
    "print(2 ** (1/3))\n",
    "print(10 % 3)\n",
    "print(16 % 7)"
   ]
  },
  {
   "cell_type": "code",
   "execution_count": 3,
   "id": "0368828a-8c63-41d7-bc7a-8d618a334212",
   "metadata": {},
   "outputs": [
    {
     "name": "stdout",
     "output_type": "stream",
     "text": [
      "4\n",
      "1\n",
      "15\n",
      "2.0\n",
      "3\n",
      "7\n",
      "243\n"
     ]
    }
   ],
   "source": [
    "print(2 + 2)   # Adição\n",
    "print(3 - 2)   # Subtração\n",
    "print(3 * 5)   # Multiplização\n",
    "print(10 / 5)  # Divisão(com resultado fracionário)\n",
    "print(10 // 3) # Divisão(com resultados inteiros)\n",
    "print(63 % 8)  # Módulo ou resto\n",
    "print(3 ** 5)  # Exponenciação ou potenciação"
   ]
  },
  {
   "cell_type": "code",
   "execution_count": 4,
   "id": "58e0643d-2224-473d-82a8-eb80dc8e9353",
   "metadata": {},
   "outputs": [
    {
     "data": {
      "text/plain": [
       "1575.0"
      ]
     },
     "execution_count": 4,
     "metadata": {},
     "output_type": "execute_result"
    }
   ],
   "source": [
    "1500 + (1500 * 5 / 100)"
   ]
  },
  {
   "cell_type": "code",
   "execution_count": 5,
   "id": "b81717d1-0ee4-404c-af55-c8ea8ff0e5ce",
   "metadata": {},
   "outputs": [
    {
     "name": "stdout",
     "output_type": "stream",
     "text": [
      "10 + 20 x 30 -> 610\n",
      "4^2 / 30 -> 0.5333333333333333\n",
      "(9^4 + 2) x 6 - 1 -> 39377\n"
     ]
    }
   ],
   "source": [
    "# Exercício 2.1\n",
    "\"\"\"\n",
    "Converta as sequintes expressões matemáticas para que possam ser calculadas usando o interpretador Python.\n",
    "10 + 20 x 30\n",
    "4^2 / 30\n",
    "(9^4 + 2) x 6 - 1\n",
    "\"\"\"\n",
    "\n",
    "print(f\"10 + 20 x 30 -> {10 + 20 * 30}\")\n",
    "print(f\"4^2 / 30 -> {4 ** 2 / 30}\")\n",
    "print(f\"(9^4 + 2) x 6 - 1 -> {(9 ** 4 + 2) * 6 - 1}\")"
   ]
  },
  {
   "cell_type": "code",
   "execution_count": 6,
   "id": "5aceed19-97d3-477a-b0eb-b072b1ca40f4",
   "metadata": {},
   "outputs": [
    {
     "name": "stdout",
     "output_type": "stream",
     "text": [
      "10 % 3 * 10 ** 2 + 1 - 10 * 4 / 2 -> 81.0\n"
     ]
    }
   ],
   "source": [
    "# Exercício 2.2\n",
    "\"\"\"\n",
    "Digite a seguinte expressão no interpretador:\n",
    "10 % 3 * 10 ** 2 + 1 - 10 * 4 / 2\n",
    "Tente resolver o mesmo cálculo, usando apenas lápis e papel. Observe como a\n",
    "prioridade das operações é importane.\n",
    "\"\"\"\n",
    "\n",
    "print(f\"10 % 3 * 10 ** 2 + 1 - 10 * 4 / 2 -> {10 % 3 * 10 ** 2 + 1 - 10 * 4 / 2}\")"
   ]
  },
  {
   "cell_type": "code",
   "execution_count": 7,
   "id": "055c8d23-9b21-4734-8b76-787013375958",
   "metadata": {},
   "outputs": [
    {
     "name": "stdout",
     "output_type": "stream",
     "text": [
      "2 + 3 = 5\n"
     ]
    }
   ],
   "source": [
    "# Programa 2.1 - Primeiro programa com variáveis\n",
    "a = 2\n",
    "b = 3\n",
    "print(f\"{2} + {3} = {a + b}\")"
   ]
  },
  {
   "cell_type": "code",
   "execution_count": 8,
   "id": "b547fabc-9595-4312-bbb5-f145e8edd507",
   "metadata": {},
   "outputs": [
    {
     "name": "stdout",
     "output_type": "stream",
     "text": [
      "Salário atual R$ 1500.0\n",
      "Salário atualizado R$ 1575.0\n"
     ]
    }
   ],
   "source": [
    "# Programa 2.2 - Cálculo de aumento de salário\n",
    "salario = 1500.00\n",
    "aumento = 5\n",
    "aumento_salario = salario + (salario * aumento / 100)\n",
    "\n",
    "print(f\"Salário atual R$ {salario}\")\n",
    "print(f\"Salário atualizado R$ {aumento_salario}\")"
   ]
  },
  {
   "cell_type": "code",
   "execution_count": 9,
   "id": "5fb14f8d-8c94-46e9-b0ee-c31e4900d3fc",
   "metadata": {},
   "outputs": [
    {
     "name": "stdout",
     "output_type": "stream",
     "text": [
      "1575.0\n"
     ]
    }
   ],
   "source": [
    "# Programa 2.3 - Alternativa para o cálculo de aumento de salário\n",
    "print(1500.00 + (1500.00 * 5 / 100))"
   ]
  },
  {
   "cell_type": "code",
   "execution_count": 14,
   "id": "9fba8a06-1f40-4744-b4cc-06698d62153b",
   "metadata": {},
   "outputs": [
    {
     "name": "stdout",
     "output_type": "stream",
     "text": [
      "Adelmo Menezes da Silva Protázio\n"
     ]
    }
   ],
   "source": [
    "# Exercício 2.3\n",
    "\"\"\"\n",
    "Faça um programa que exiba seu nome na tela.\n",
    "\"\"\"\n",
    "print(\"Adelmo Menezes da Silva Protázio\")"
   ]
  },
  {
   "cell_type": "code",
   "execution_count": 16,
   "id": "d7ec66f9-561e-46b1-bc40-819b18e6e383",
   "metadata": {},
   "outputs": [
    {
     "name": "stdout",
     "output_type": "stream",
     "text": [
      "a = 3, b = 5\n",
      "2.a x 3.b = 90\n"
     ]
    }
   ],
   "source": [
    "# Exercício 2.4\n",
    "\"\"\"\n",
    "Escreva um programa que exiba o resultado de 2.a x 3.b, em que\n",
    "a vale 3 e b vale 5.\n",
    "\"\"\"\n",
    "a = 3\n",
    "b = 5\n",
    "resultado = 2*a * 3*b\n",
    "\n",
    "print(f\"a = {a}, b = {b}\")\n",
    "print(f\"2.a x 3.b = {resultado}\")"
   ]
  },
  {
   "cell_type": "code",
   "execution_count": 17,
   "id": "8014281e-3204-48ea-b36f-547b3feba974",
   "metadata": {},
   "outputs": [
    {
     "name": "stdout",
     "output_type": "stream",
     "text": [
      "3 + 4 + 5 = 12\n"
     ]
    }
   ],
   "source": [
    "# Exercício 2.5\n",
    "\"\"\"\n",
    "Escreva um programa que calcule a soma de três variáveis e\n",
    "imprima o resultado na tela\n",
    "\"\"\"\n",
    "a = 3\n",
    "b = 4\n",
    "c = 5\n",
    "resultado = a + b + c\n",
    "\n",
    "print(f\"{a} + {b} + {c} = {resultado}\")"
   ]
  },
  {
   "cell_type": "code",
   "execution_count": 18,
   "id": "bd942de3-e875-4124-bf07-d78b4fd6a9d2",
   "metadata": {},
   "outputs": [
    {
     "name": "stdout",
     "output_type": "stream",
     "text": [
      "Salário atual R$ 750.0\n",
      "Salário atualizado R$ 862.5\n"
     ]
    }
   ],
   "source": [
    "# Exercício 2.6\n",
    "\"\"\"\n",
    "Modifique o Porgrama 2.2, de forma que ele calcule um aumento de 15%\n",
    "para um salário de R$ 750,00.\n",
    "\"\"\"\n",
    "salario = 750.00\n",
    "aumento = 15\n",
    "resultado = salario + (salario * aumento / 100)\n",
    "\n",
    "print(f\"Salário atual R$ {salario}\")\n",
    "print(f\"Salário atualizado R$ {resultado}\")"
   ]
  }
 ],
 "metadata": {
  "kernelspec": {
   "display_name": "Python 3 (ipykernel)",
   "language": "python",
   "name": "python3"
  },
  "language_info": {
   "codemirror_mode": {
    "name": "ipython",
    "version": 3
   },
   "file_extension": ".py",
   "mimetype": "text/x-python",
   "name": "python",
   "nbconvert_exporter": "python",
   "pygments_lexer": "ipython3",
   "version": "3.14.0"
  }
 },
 "nbformat": 4,
 "nbformat_minor": 5
}
