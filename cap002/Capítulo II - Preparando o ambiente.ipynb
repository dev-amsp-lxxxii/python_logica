{
 "cells": [
  {
   "cell_type": "markdown",
   "id": "074fd744-aada-47e1-ba01-98b947283bc7",
   "metadata": {},
   "source": [
    "### 2.6 - Primeiros Programas"
   ]
  },
  {
   "cell_type": "code",
   "execution_count": 1,
   "id": "bef6c7db-760d-4a1b-938e-4bc207cdf4de",
   "metadata": {},
   "outputs": [
    {
     "name": "stdout",
     "output_type": "stream",
     "text": [
      "Oi\n"
     ]
    }
   ],
   "source": [
    "print(\"Oi\")"
   ]
  },
  {
   "cell_type": "code",
   "execution_count": 2,
   "id": "065124af-64c8-4ce5-9191-fb4738e28594",
   "metadata": {},
   "outputs": [
    {
     "name": "stdout",
     "output_type": "stream",
     "text": [
      "5\n",
      "2\n",
      "8\n",
      "20\n",
      "5.0\n",
      "2.5\n",
      "2\n",
      "8\n",
      "1\n",
      "3\n",
      "1\n",
      "0\n",
      "1.2599210498948732\n",
      "1\n",
      "2\n"
     ]
    }
   ],
   "source": [
    "print(2 + 3)\n",
    "print(5 - 3)\n",
    "print(10 - 4 + 2)\n",
    "print(2 * 10)\n",
    "print(20 / 4)\n",
    "print(10 / 4)\n",
    "print(10 // 4)\n",
    "print(2 ** 3)\n",
    "print(3 ** 0)\n",
    "print(3 ** 1)\n",
    "print(1 ** 9)\n",
    "print(0 ** 1100)\n",
    "print(2 ** (1/3))\n",
    "print(10 % 3)\n",
    "print(16 % 7)"
   ]
  },
  {
   "cell_type": "code",
   "execution_count": 3,
   "id": "0368828a-8c63-41d7-bc7a-8d618a334212",
   "metadata": {},
   "outputs": [
    {
     "name": "stdout",
     "output_type": "stream",
     "text": [
      "4\n",
      "1\n",
      "15\n",
      "2.0\n",
      "3\n",
      "7\n",
      "243\n"
     ]
    }
   ],
   "source": [
    "print(2 + 2)   # Adição\n",
    "print(3 - 2)   # Subtração\n",
    "print(3 * 5)   # Multiplização\n",
    "print(10 / 5)  # Divisão(com resultado fracionário)\n",
    "print(10 // 3) # Divisão(com resultados inteiros)\n",
    "print(63 % 8)  # Módulo ou resto\n",
    "print(3 ** 5)  # Exponenciação ou potenciação"
   ]
  },
  {
   "cell_type": "code",
   "execution_count": 4,
   "id": "58e0643d-2224-473d-82a8-eb80dc8e9353",
   "metadata": {},
   "outputs": [
    {
     "data": {
      "text/plain": [
       "1575.0"
      ]
     },
     "execution_count": 4,
     "metadata": {},
     "output_type": "execute_result"
    }
   ],
   "source": [
    "1500 + (1500 * 5 / 100)"
   ]
  },
  {
   "cell_type": "code",
   "execution_count": 5,
   "id": "b81717d1-0ee4-404c-af55-c8ea8ff0e5ce",
   "metadata": {},
   "outputs": [
    {
     "name": "stdout",
     "output_type": "stream",
     "text": [
      "10 + 20 x 30 -> 610\n",
      "4^2 / 30 -> 0.5333333333333333\n",
      "(9^4 + 2) x 6 - 1 -> 39377\n"
     ]
    }
   ],
   "source": [
    "# Exercício 2.1\n",
    "\"\"\"\n",
    "Converta as sequintes expressões matemáticas para que possam ser calculadas usando o interpretador Python.\n",
    "10 + 20 x 30\n",
    "4^2 / 30\n",
    "(9^4 + 2) x 6 - 1\n",
    "\"\"\"\n",
    "\n",
    "print(f\"10 + 20 x 30 -> {10 + 20 * 30}\")\n",
    "print(f\"4^2 / 30 -> {4 ** 2 / 30}\")\n",
    "print(f\"(9^4 + 2) x 6 - 1 -> {(9 ** 4 + 2) * 6 - 1}\")"
   ]
  },
  {
   "cell_type": "code",
   "execution_count": 6,
   "id": "5aceed19-97d3-477a-b0eb-b072b1ca40f4",
   "metadata": {},
   "outputs": [
    {
     "name": "stdout",
     "output_type": "stream",
     "text": [
      "10 % 3 * 10 ** 2 + 1 - 10 * 4 / 2 -> 81.0\n"
     ]
    }
   ],
   "source": [
    "# Exercício 2.2\n",
    "\"\"\"\n",
    "Digite a seguinte expressão no interpretador:\n",
    "10 % 3 * 10 ** 2 + 1 - 10 * 4 / 2\n",
    "Tente resolver o mesmo cálculo, usando apenas lápis e papel. Observe como a\n",
    "prioridade das operações é importane.\n",
    "\"\"\"\n",
    "\n",
    "print(f\"10 % 3 * 10 ** 2 + 1 - 10 * 4 / 2 -> {10 % 3 * 10 ** 2 + 1 - 10 * 4 / 2}\")"
   ]
  },
  {
   "cell_type": "markdown",
   "id": "93970ae1-59c7-4902-9e1b-b65f94eaee55",
   "metadata": {},
   "source": [
    "### 2.7 - Conceitos de variáveis e atribuição"
   ]
  },
  {
   "cell_type": "code",
   "execution_count": 7,
   "id": "055c8d23-9b21-4734-8b76-787013375958",
   "metadata": {},
   "outputs": [
    {
     "name": "stdout",
     "output_type": "stream",
     "text": [
      "2 + 3 = 5\n"
     ]
    }
   ],
   "source": [
    "# Programa 2.1 - Primeiro programa com variáveis\n",
    "a = 2\n",
    "b = 3\n",
    "print(f\"{2} + {3} = {a + b}\")"
   ]
  },
  {
   "cell_type": "code",
   "execution_count": 8,
   "id": "b547fabc-9595-4312-bbb5-f145e8edd507",
   "metadata": {},
   "outputs": [
    {
     "name": "stdout",
     "output_type": "stream",
     "text": [
      "Salário atual R$ 1500.0\n",
      "Salário atualizado R$ 1575.0\n"
     ]
    }
   ],
   "source": [
    "# Programa 2.2 - Cálculo de aumento de salário\n",
    "salario = 1500.00\n",
    "aumento = 5\n",
    "aumento_salario = salario + (salario * aumento / 100)\n",
    "\n",
    "print(f\"Salário atual R$ {salario}\")\n",
    "print(f\"Salário atualizado R$ {aumento_salario}\")"
   ]
  },
  {
   "cell_type": "code",
   "execution_count": 9,
   "id": "5fb14f8d-8c94-46e9-b0ee-c31e4900d3fc",
   "metadata": {},
   "outputs": [
    {
     "name": "stdout",
     "output_type": "stream",
     "text": [
      "1575.0\n"
     ]
    }
   ],
   "source": [
    "# Programa 2.3 - Alternativa para o cálculo de aumento de salário\n",
    "print(1500.00 + (1500.00 * 5 / 100))"
   ]
  },
  {
   "cell_type": "code",
   "execution_count": 10,
   "id": "9fba8a06-1f40-4744-b4cc-06698d62153b",
   "metadata": {},
   "outputs": [
    {
     "name": "stdout",
     "output_type": "stream",
     "text": [
      "Adelmo Menezes da Silva Protázio\n"
     ]
    }
   ],
   "source": [
    "# Exercício 2.3\n",
    "\"\"\"\n",
    "Faça um programa que exiba seu nome na tela.\n",
    "\"\"\"\n",
    "print(\"Adelmo Menezes da Silva Protázio\")"
   ]
  },
  {
   "cell_type": "code",
   "execution_count": 11,
   "id": "d7ec66f9-561e-46b1-bc40-819b18e6e383",
   "metadata": {},
   "outputs": [
    {
     "name": "stdout",
     "output_type": "stream",
     "text": [
      "a = 3, b = 5\n",
      "2.a x 3.b = 90\n"
     ]
    }
   ],
   "source": [
    "# Exercício 2.4\n",
    "\"\"\"\n",
    "Escreva um programa que exiba o resultado de 2.a x 3.b, em que\n",
    "a vale 3 e b vale 5.\n",
    "\"\"\"\n",
    "a = 3\n",
    "b = 5\n",
    "resultado = 2*a * 3*b\n",
    "\n",
    "print(f\"a = {a}, b = {b}\")\n",
    "print(f\"2.a x 3.b = {resultado}\")"
   ]
  },
  {
   "cell_type": "code",
   "execution_count": 12,
   "id": "8014281e-3204-48ea-b36f-547b3feba974",
   "metadata": {},
   "outputs": [
    {
     "name": "stdout",
     "output_type": "stream",
     "text": [
      "3 + 4 + 5 = 12\n"
     ]
    }
   ],
   "source": [
    "# Exercício 2.5\n",
    "\"\"\"\n",
    "Escreva um programa que calcule a soma de três variáveis e\n",
    "imprima o resultado na tela\n",
    "\"\"\"\n",
    "a = 3\n",
    "b = 4\n",
    "c = 5\n",
    "resultado = a + b + c\n",
    "\n",
    "print(f\"{a} + {b} + {c} = {resultado}\")"
   ]
  },
  {
   "cell_type": "code",
   "execution_count": 13,
   "id": "bd942de3-e875-4124-bf07-d78b4fd6a9d2",
   "metadata": {},
   "outputs": [
    {
     "name": "stdout",
     "output_type": "stream",
     "text": [
      "Salário atual R$ 750.0\n",
      "Salário atualizado R$ 862.5\n"
     ]
    }
   ],
   "source": [
    "# Exercício 2.6\n",
    "\"\"\"\n",
    "Modifique o Porgrama 2.2, de forma que ele calcule um aumento de 15%\n",
    "para um salário de R$ 750,00.\n",
    "\"\"\"\n",
    "salario = 750.00\n",
    "aumento = 15\n",
    "resultado = salario + (salario * aumento / 100)\n",
    "\n",
    "print(f\"Salário atual R$ {salario}\")\n",
    "print(f\"Salário atualizado R$ {resultado}\")"
   ]
  },
  {
   "cell_type": "markdown",
   "id": "b3ee430a-5388-462e-974e-85b0132ff69e",
   "metadata": {},
   "source": [
    "### 2.8 - Uma rápida revisão de conceitos matemáticos"
   ]
  },
  {
   "cell_type": "code",
   "execution_count": 16,
   "id": "e58d839d-05ce-47cb-a19c-89d853b89335",
   "metadata": {},
   "outputs": [
    {
     "name": "stdout",
     "output_type": "stream",
     "text": [
      "Quociente 25 e Resto 1\n"
     ]
    }
   ],
   "source": [
    "print(f\"Quociente {101 // 4} e Resto {101 % 4}\")"
   ]
  },
  {
   "cell_type": "code",
   "execution_count": 17,
   "id": "f4076d98-ff32-4763-9ee7-2381772a31fd",
   "metadata": {},
   "outputs": [
    {
     "name": "stdout",
     "output_type": "stream",
     "text": [
      " Resto = 1\n"
     ]
    }
   ],
   "source": [
    "# Resto = Dividendo - Quociente * Divisor\n",
    "print(f\" Resto = {101 - 25 * 4}\")"
   ]
  },
  {
   "cell_type": "code",
   "execution_count": 19,
   "id": "1b0c25a1-9f4e-4217-bc35-43c31f878244",
   "metadata": {},
   "outputs": [
    {
     "name": "stdout",
     "output_type": "stream",
     "text": [
      "Quociente inteiro = 25\n",
      "Quociente = 25.25\n",
      "Resto = 1\n"
     ]
    }
   ],
   "source": [
    "print(f\"Quociente inteiro = {101 // 4}\")\n",
    "print(f\"Quociente = {101 / 4}\")\n",
    "print(f\"Resto = {101 % 4}\")"
   ]
  },
  {
   "cell_type": "code",
   "execution_count": 21,
   "id": "3a4082ba-93d5-46ac-ab01-e947e93073ae",
   "metadata": {},
   "outputs": [
    {
     "name": "stdout",
     "output_type": "stream",
     "text": [
      "Sinais iguais = 2.5\n",
      "Sinais iguais = 2.5\n",
      "Sinais diferentes = -2.5\n",
      "Sinais diferentes = -2.5\n"
     ]
    }
   ],
   "source": [
    "print(f\"Sinais iguais = {-5 / -2}\")\n",
    "print(f\"Sinais iguais = {5 / 2}\")\n",
    "print(f\"Sinais diferentes = {5 / -2}\")\n",
    "print(f\"Sinais diferentes = {-5 / 2}\")"
   ]
  },
  {
   "cell_type": "code",
   "execution_count": 22,
   "id": "84b52a1b-0464-419b-85f4-3b1230dd0bc6",
   "metadata": {},
   "outputs": [
    {
     "name": "stdout",
     "output_type": "stream",
     "text": [
      "0.4\n",
      "0.12\n",
      "8.333333333333334\n",
      "100.0\n"
     ]
    }
   ],
   "source": [
    "print(2 / 5)\n",
    "print(0.6 / 5)\n",
    "print(5 / 0.6)\n",
    "print(10 / 0.1)"
   ]
  },
  {
   "cell_type": "code",
   "execution_count": 24,
   "id": "5e4b8033-f2a5-40fa-bb46-5de25a25e5ad",
   "metadata": {},
   "outputs": [
    {
     "name": "stdout",
     "output_type": "stream",
     "text": [
      "10 não é divisível por 3, pois o resto é igual a 1 -> 10 % 3 = 1\n",
      "9 é divisível por 3, pois o resto é igual a 0 -> 9 % 3 = 0\n"
     ]
    }
   ],
   "source": [
    "print(f\"10 não é divisível por 3, pois o resto é igual a 1 -> 10 % 3 = {10 % 3}\")\n",
    "print(f\"9 é divisível por 3, pois o resto é igual a 0 -> 9 % 3 = {9 % 3}\")"
   ]
  },
  {
   "cell_type": "code",
   "execution_count": 32,
   "id": "64220f59-f3d5-4fac-9fb2-96a1ed871a6d",
   "metadata": {},
   "outputs": [
    {
     "name": "stdout",
     "output_type": "stream",
     "text": [
      "5 x -1 = -5\n",
      "-5 x 1 = -5\n",
      "(-5) x (-1) = 5\n",
      "(-3.4) x (-1) = 3.4\n"
     ]
    }
   ],
   "source": [
    "print(f\"5 x -1 = {5 * -1}\")\n",
    "print(f\"-5 x 1 = {-5 * 1}\")\n",
    "print(f\"(-5) x (-1) = {(-5) * (-1)}\")\n",
    "print(f\"(-3.4) x (-1) = {(-3.4) * (-1)}\")"
   ]
  },
  {
   "cell_type": "code",
   "execution_count": 35,
   "id": "9cf14a46-247e-4042-99dc-7c35366e789d",
   "metadata": {},
   "outputs": [
    {
     "name": "stdout",
     "output_type": "stream",
     "text": [
      "6 x 2 = 12\n",
      "2 x 6 = 12\n",
      "-4 x 3 = -12\n",
      "3 x -4 = -12\n",
      "10.4 x -8 = -83.2\n",
      "-8 x -10.4 = -83.2\n"
     ]
    }
   ],
   "source": [
    "print(f\"6 x 2 = {6 * 2}\")\n",
    "print(f\"2 x 6 = {2 * 6}\")\n",
    "print(f\"-4 x 3 = {-4 * 3}\")\n",
    "print(f\"3 x -4 = {3 * -4}\")\n",
    "print(f\"10.4 x -8 = {10.4 * -8}\")\n",
    "print(f\"-8 x -10.4 = {-8 * 10.4}\")"
   ]
  },
  {
   "cell_type": "code",
   "execution_count": 39,
   "id": "effd240b-54f3-468b-9745-f3e8ea61a06c",
   "metadata": {},
   "outputs": [
    {
     "name": "stdout",
     "output_type": "stream",
     "text": [
      "1 x (-1) x (-1) = 1\n",
      "(-1) x (-1) x (-1) = -1\n",
      "3 x (-2) x 9 = -54\n",
      "(-3) x (-2) x 9 = 54\n",
      "(-3) x (-2) x (-9) = -54\n"
     ]
    }
   ],
   "source": [
    "print(f\"1 x (-1) x (-1) = {1 * (-1) * (-1)}\")\n",
    "print(f\"(-1) x (-1) x (-1) = {(-1) * (-1) * (-1)}\")\n",
    "print(f\"3 x (-2) x 9 = {3 * (-2) * 9}\")\n",
    "print(f\"(-3) x (-2) x 9 = {(-3) * (-2) * 9}\")\n",
    "print(f\"(-3) x (-2) x (-9) = {(-3) * (-2) * (-9)}\")"
   ]
  },
  {
   "cell_type": "code",
   "execution_count": 40,
   "id": "c759747b-17c0-4e8d-94c9-003329cb3378",
   "metadata": {},
   "outputs": [
    {
     "name": "stdout",
     "output_type": "stream",
     "text": [
      "0 % 4 = 0\n",
      "1 % 4 = 1\n",
      "2 % 4 = 2\n",
      "3 % 4 = 3\n",
      "4 % 4 = 0\n",
      "5 % 4 = 1\n",
      "6 % 4 = 2\n",
      "7 % 4 = 3\n",
      "8 % 4 = 0\n"
     ]
    }
   ],
   "source": [
    "print(f\"0 % 4 = {0 % 4}\")\n",
    "print(f\"1 % 4 = {1 % 4}\")\n",
    "print(f\"2 % 4 = {2 % 4}\")\n",
    "print(f\"3 % 4 = {3 % 4}\")\n",
    "print(f\"4 % 4 = {4 % 4}\")\n",
    "print(f\"5 % 4 = {5 % 4}\")\n",
    "print(f\"6 % 4 = {6 % 4}\")\n",
    "print(f\"7 % 4 = {7 % 4}\")\n",
    "print(f\"8 % 4 = {8 % 4}\")"
   ]
  },
  {
   "cell_type": "code",
   "execution_count": 43,
   "id": "c20916f3-e513-47a6-80c1-c3f64dc0439e",
   "metadata": {},
   "outputs": [
    {
     "name": "stdout",
     "output_type": "stream",
     "text": [
      "0.5 % 9 = 0.5\n",
      "11.5 % 9 = 2.5\n",
      "(-10) % 9 = 8\n",
      "10 % 9 = 1\n",
      "-5 % 9 = 4\n"
     ]
    }
   ],
   "source": [
    "print(f\"0.5 % 9 = {0.5 % 9}\")\n",
    "print(f\"11.5 % 9 = {11.5 % 9}\")\n",
    "print(f\"(-10) % 9 = {(-10) % 9}\")\n",
    "print(f\"10 % 9 = {10 % 9}\")\n",
    "print(f\"-5 % 9 = {-5 % 9}\")"
   ]
  },
  {
   "cell_type": "code",
   "execution_count": 46,
   "id": "2b8cdfbe-ad43-4931-90b8-45f6a020ce91",
   "metadata": {},
   "outputs": [
    {
     "name": "stdout",
     "output_type": "stream",
     "text": [
      "(-10) % 9 = (-10) - (9 * (-2)) = (-10) + 18 = 8\n",
      "8 = 8 = 8\n"
     ]
    }
   ],
   "source": [
    "\"\"\"\n",
    "Quando usamos o módulo com números negativos, o resultado da divisão é\n",
    "arredondado para o próximo valor inteiro, no sentido infinito negativo.\n",
    "\"\"\"\n",
    "print(\"(-10) % 9 = (-10) - (9 * (-2)) = (-10) + 18 = 8\")\n",
    "print(f\"{(-10) % 9} = {(-10) - (9 * (-2))} = {(-10) + 18}\")"
   ]
  },
  {
   "cell_type": "code",
   "execution_count": 49,
   "id": "b5b2281f-e7cb-4052-b75e-6fa92d7e5cdc",
   "metadata": {},
   "outputs": [
    {
     "name": "stdout",
     "output_type": "stream",
     "text": [
      "8\n",
      "1\n"
     ]
    }
   ],
   "source": [
    "print(-10 % 9)\n",
    "print(10 % 9)"
   ]
  },
  {
   "cell_type": "code",
   "execution_count": 53,
   "id": "8d088038-7ba5-4124-b1c1-48270c518e7a",
   "metadata": {},
   "outputs": [
    {
     "name": "stdout",
     "output_type": "stream",
     "text": [
      "(10/2) = (C/3) = 15.0\n"
     ]
    }
   ],
   "source": [
    "# Regra de três simples em python\n",
    "\"\"\"\n",
    "fórmulas \n",
    "a = b x c / d\n",
    "b = a x d / c\n",
    "c = a x d / b\n",
    "d = b x c / a\n",
    "\"\"\"\n",
    "print(f\"(10/2) = (C/3) = {10 * 3 / 2}\")"
   ]
  },
  {
   "cell_type": "code",
   "execution_count": 16,
   "id": "e4676f99-09cc-43b6-9149-b6279d499682",
   "metadata": {},
   "outputs": [
    {
     "name": "stdout",
     "output_type": "stream",
     "text": [
      "10% de 250? 25.0\n",
      "75 equivale ao valor 450? 16.67%\n"
     ]
    }
   ],
   "source": [
    "# Porcentagem\n",
    "\n",
    "# x/250 = 10/100\n",
    "print(f\"10% de 250? {250 * 10 / 100}\")\n",
    "# 75/450 = x/100\n",
    "print(f\"75 equivale ao valor 450? {75 * 100 / 450:.2f}%\") "
   ]
  },
  {
   "cell_type": "code",
   "execution_count": 20,
   "id": "2dd13fc5-7ba6-470f-87f1-5ec08f57d406",
   "metadata": {},
   "outputs": [
    {
     "name": "stdout",
     "output_type": "stream",
     "text": [
      "30.0 = 30.0\n",
      "0.15\n"
     ]
    }
   ],
   "source": [
    "# Quanto é 15% de 200?\n",
    "print(f\"{15 / 100 * 200} = {0.15 * 200}\")\n",
    "# A quantos porcento 30 corresponde de 200?\n",
    "print(30 / 200)"
   ]
  },
  {
   "cell_type": "code",
   "execution_count": 23,
   "id": "7fcc92e3-92d3-41a5-b821-9f0c68e2c417",
   "metadata": {},
   "outputs": [
    {
     "name": "stdout",
     "output_type": "stream",
     "text": [
      "A média de 2, 4, 5 é 3.67\n",
      "A média de 2, 4, 5 é 7.67\n"
     ]
    }
   ],
   "source": [
    "# média de -> 2, 4, 5\n",
    "media = (2 + 4 + 5) / 3\n",
    "print(f\"A média de 2, 4, 5 é {media:.2f}\")\n",
    "# Sempre respeitar a prioridade das operações\n",
    "result_errado = 2 + 4 + 5 / 3\n",
    "print(f\"A média de 2, 4, 5 é {result_errado:.2f}\")"
   ]
  },
  {
   "cell_type": "code",
   "execution_count": 27,
   "id": "43768306-6322-45e4-b4f6-0bd6b4640e8e",
   "metadata": {},
   "outputs": [
    {
     "name": "stdout",
     "output_type": "stream",
     "text": [
      "Nota Teste: 7.0 e Nota Prova: 9.0\n",
      "Média Ponderada = 7.67\n"
     ]
    }
   ],
   "source": [
    "# Média ponderada\n",
    "nota_teste = 7.0\n",
    "nota_prova = 9.0\n",
    "\n",
    "media_ponderada = ((2 * nota_teste) + (1 * nota_prova)) / 3\n",
    "\n",
    "print(f\"Nota Teste: {nota_teste} e Nota Prova: {nota_prova}\")\n",
    "print(f\"Média Ponderada = {media_ponderada:.2f}\")"
   ]
  },
  {
   "cell_type": "code",
   "execution_count": 30,
   "id": "7aabda06-86a0-4378-ac1a-036eacfa6887",
   "metadata": {},
   "outputs": [
    {
     "name": "stdout",
     "output_type": "stream",
     "text": [
      "Nota Teste: 6.0\n",
      "Nota Trabalho: 8.0\n",
      "Nota Prova: 7.0\n",
      "Média Ponderada = 7.10\n",
      "Média Ponderada div os pessos por 100 = 7.10\n"
     ]
    }
   ],
   "source": [
    "nt_teste = 6.0\n",
    "nt_trabalho = 8.0\n",
    "nt_prova = 7.0\n",
    "\n",
    "m_ponderada = ((nt_teste * 20) + (nt_trabalho * 30) + (nt_prova * 50)) / 100\n",
    "\n",
    "print(f\"Nota Teste: {nt_teste}\")\n",
    "print(f\"Nota Trabalho: {nt_trabalho}\")\n",
    "print(f\"Nota Prova: {nt_prova}\")\n",
    "print(f\"Média Ponderada = {m_ponderada:.2f}\")\n",
    "print(f\"Média Ponderada div os pessos por 100 = {(nt_teste * 0.2) + (nt_trabalho * 0.3) + (nt_prova * 0.5):.2f}\")"
   ]
  },
  {
   "cell_type": "code",
   "execution_count": 32,
   "id": "eac28bc5-d0df-4af1-a070-50332d2c9581",
   "metadata": {},
   "outputs": [
    {
     "name": "stdout",
     "output_type": "stream",
     "text": [
      "7.1 = 7.1\n"
     ]
    }
   ],
   "source": [
    "# Exercício 2.7\n",
    "\"\"\"\n",
    "Usando as propriedades da divisão e da multiplicação, \n",
    "tente entender como estes resultados são iguais:\n",
    "\"\"\"\n",
    "print(f\"{6.0 * 0.2 + 8.0 * 0.3 + 7.0 * 0.5} = {(6.0 * 20 + 8.0 * 30 + 7.0 * 50) / 100}\")"
   ]
  }
 ],
 "metadata": {
  "kernelspec": {
   "display_name": "Python 3 (ipykernel)",
   "language": "python",
   "name": "python3"
  },
  "language_info": {
   "codemirror_mode": {
    "name": "ipython",
    "version": 3
   },
   "file_extension": ".py",
   "mimetype": "text/x-python",
   "name": "python",
   "nbconvert_exporter": "python",
   "pygments_lexer": "ipython3",
   "version": "3.14.0"
  }
 },
 "nbformat": 4,
 "nbformat_minor": 5
}
